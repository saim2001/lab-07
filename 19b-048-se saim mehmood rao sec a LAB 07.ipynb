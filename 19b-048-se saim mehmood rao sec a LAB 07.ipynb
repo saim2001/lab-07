{
 "cells": [
  {
   "cell_type": "markdown",
   "metadata": {},
   "source": [
    "# LAB 07"
   ]
  },
  {
   "cell_type": "markdown",
   "metadata": {},
   "source": [
    "# EXAMPLE 01\n"
   ]
  },
  {
   "cell_type": "code",
   "execution_count": 7,
   "metadata": {},
   "outputs": [
    {
     "data": {
      "text/plain": [
       "'saim mehmood rao'"
      ]
     },
     "execution_count": 7,
     "metadata": {},
     "output_type": "execute_result"
    }
   ],
   "source": [
    "def numchars(sample):\n",
    "    infile=open(sample,\"r\")\n",
    "    content=infile.read()\n",
    "    infile.close()\n",
    "    return content\n",
    "numchars('sample')"
   ]
  },
  {
   "cell_type": "markdown",
   "metadata": {},
   "source": [
    "# example 02"
   ]
  },
  {
   "cell_type": "code",
   "execution_count": 13,
   "metadata": {},
   "outputs": [
    {
     "name": "stdout",
     "output_type": "stream",
     "text": [
      "['saim', 'mehmood', 'rao']\n"
     ]
    },
    {
     "data": {
      "text/plain": [
       "3"
      ]
     },
     "execution_count": 13,
     "metadata": {},
     "output_type": "execute_result"
    }
   ],
   "source": [
    "def numwords(sample):\n",
    "    infile=open(sample,'r')\n",
    "    content=infile.read()\n",
    "    infile.close()\n",
    "    \n",
    "    \n",
    "    \n",
    "    wordlist=content.split()\n",
    "    print(wordlist)\n",
    "    return len(wordlist)\n",
    "numwords('sample')"
   ]
  },
  {
   "cell_type": "markdown",
   "metadata": {},
   "source": [
    "# example 03"
   ]
  },
  {
   "cell_type": "code",
   "execution_count": 17,
   "metadata": {},
   "outputs": [
    {
     "name": "stdout",
     "output_type": "stream",
     "text": [
      "['saim \\n', 'mehmood \\n', 'rao']\n"
     ]
    },
    {
     "data": {
      "text/plain": [
       "3"
      ]
     },
     "execution_count": 17,
     "metadata": {},
     "output_type": "execute_result"
    }
   ],
   "source": [
    "def numlines(sample):\n",
    "    infile=open(sample,'r')\n",
    "    line=infile.readlines()\n",
    "    infile.close()\n",
    "    print(line)\n",
    "    return len(line)\n",
    "numlines('sample')"
   ]
  },
  {
   "cell_type": "markdown",
   "metadata": {},
   "source": [
    "# example 04"
   ]
  },
  {
   "cell_type": "code",
   "execution_count": 19,
   "metadata": {},
   "outputs": [
    {
     "name": "stdout",
     "output_type": "stream",
     "text": [
      "mehmood \n",
      "\n",
      "rao\n"
     ]
    }
   ],
   "source": [
    "def mygrep(sample,s):\n",
    "    infile=open(sample,'r')\n",
    "    linelist=infile.readlines()\n",
    "    for line in linelist:\n",
    "        if s in line:\n",
    "            print(line)\n",
    "mygrep('sample','o')"
   ]
  },
  {
   "cell_type": "markdown",
   "metadata": {},
   "source": [
    "# example 05"
   ]
  },
  {
   "cell_type": "code",
   "execution_count": 22,
   "metadata": {},
   "outputs": [
    {
     "name": "stdout",
     "output_type": "stream",
     "text": [
      "line count: 3\n",
      "word count: 0\n",
      "character count: 0\n"
     ]
    }
   ],
   "source": [
    "def stats(sample):\n",
    "    infile=open(sample,'r')\n",
    "    line=infile.readlines()\n",
    "    linecount=len(line)\n",
    "    print('line count:',linecount)\n",
    "    \n",
    "    \n",
    "    "
   ]
  },
  {
   "cell_type": "code",
   "execution_count": null,
   "metadata": {},
   "outputs": [],
   "source": [
    "    words=infile.read()\n",
    "    wordslist=words.split()\n",
    "    numwords=len(wordslist)\n",
    "    print('word count:',numwords)\n",
    "    "
   ]
  },
  {
   "cell_type": "code",
   "execution_count": null,
   "metadata": {},
   "outputs": [],
   "source": [
    "\n",
    "    character=len(words)\n",
    "    print('character count:',character)\n"
   ]
  },
  {
   "cell_type": "code",
   "execution_count": 24,
   "metadata": {},
   "outputs": [
    {
     "name": "stdout",
     "output_type": "stream",
     "text": [
      "line count: 3\n",
      "word count: 0\n",
      "character count: 0\n"
     ]
    }
   ],
   "source": [
    "stats('sample')"
   ]
  },
  {
   "cell_type": "markdown",
   "metadata": {},
   "source": [
    "# question 02"
   ]
  },
  {
   "cell_type": "code",
   "execution_count": 12,
   "metadata": {},
   "outputs": [
    {
     "name": "stdout",
     "output_type": "stream",
     "text": [
      "4 studrnts got A+\n",
      "12 students got A\n",
      "1 students got A-\n",
      "6 students got B\n",
      "2 students got B-\n",
      "2 students got C\n",
      "0 students got C-\n",
      "4 students got F\n"
     ]
    }
   ],
   "source": [
    "def distribution(grades):\n",
    "    infile=open(grades,'r')\n",
    "    content=infile.read()\n",
    "    aplusCount=content.count('A+')\n",
    "    aCount =content.count('A')\n",
    "    aMinusCount = content.count('B+')\n",
    "    bCount = content.count('B')\n",
    "    bMinusCount = content.count('B-')\n",
    "    cCount =content.count('C')\n",
    "    cMinusCount =content.count('C-')\n",
    "    dCount = content.count('D')\n",
    "    dMinusCount = content.count('D-')\n",
    "    fCount =content.count('F')\n",
    "    print(aplusCount,'studrnts got A+')\n",
    "    print(aCount, 'students got A')\n",
    "    print(aMinusCount, 'students got A-')\n",
    "    print(bCount, 'students got B')\n",
    "    print(bMinusCount, 'students got B-')\n",
    "    print(cCount, 'students got C')\n",
    "    print(cMinusCount, 'students got C-')\n",
    "    print(fCount,'students got F')\n",
    "distribution('grades')"
   ]
  },
  {
   "cell_type": "markdown",
   "metadata": {},
   "source": [
    "# quetion 03"
   ]
  },
  {
   "cell_type": "code",
   "execution_count": 17,
   "metadata": {},
   "outputs": [
    {
     "name": "stdout",
     "output_type": "stream",
     "text": [
      "False\n"
     ]
    }
   ],
   "source": [
    "def duplicate(sample2):\n",
    "    infile=open(sample2,'r')\n",
    "    content=infile.read()\n",
    "    infile.close()\n",
    "    words=content.split()\n",
    "    for i in words:\n",
    "        count=words.count(i)\n",
    "    print(count<=0)\n",
    "duplicate('sample')"
   ]
  },
  {
   "cell_type": "markdown",
   "metadata": {},
   "source": [
    "# question 04"
   ]
  },
  {
   "cell_type": "code",
   "execution_count": 1,
   "metadata": {},
   "outputs": [
    {
     "ename": "UnboundLocalError",
     "evalue": "local variable 'infile1' referenced before assignment",
     "output_type": "error",
     "traceback": [
      "\u001b[1;31m---------------------------------------------------------------------------\u001b[0m",
      "\u001b[1;31mUnboundLocalError\u001b[0m                         Traceback (most recent call last)",
      "\u001b[1;32m<ipython-input-1-1e89b3db8d19>\u001b[0m in \u001b[0;36m<module>\u001b[1;34m\u001b[0m\n\u001b[0;32m     12\u001b[0m     \u001b[0minfile\u001b[0m\u001b[1;33m.\u001b[0m\u001b[0mclose\u001b[0m\u001b[1;33m(\u001b[0m\u001b[1;33m)\u001b[0m\u001b[1;33m\u001b[0m\u001b[1;33m\u001b[0m\u001b[0m\n\u001b[0;32m     13\u001b[0m     \u001b[0minfile1\u001b[0m\u001b[1;33m.\u001b[0m\u001b[0mclose\u001b[0m\u001b[1;33m(\u001b[0m\u001b[1;33m)\u001b[0m\u001b[1;33m\u001b[0m\u001b[1;33m\u001b[0m\u001b[0m\n\u001b[1;32m---> 14\u001b[1;33m \u001b[0mabc\u001b[0m\u001b[1;33m(\u001b[0m\u001b[1;34m'sample2'\u001b[0m\u001b[1;33m)\u001b[0m\u001b[1;33m\u001b[0m\u001b[1;33m\u001b[0m\u001b[0m\n\u001b[0m",
      "\u001b[1;32m<ipython-input-1-1e89b3db8d19>\u001b[0m in \u001b[0;36mabc\u001b[1;34m(sample2)\u001b[0m\n\u001b[0;32m     11\u001b[0m             \u001b[0minfile1\u001b[0m\u001b[1;33m.\u001b[0m\u001b[0mclose\u001b[0m\u001b[1;33m(\u001b[0m\u001b[1;33m)\u001b[0m\u001b[1;33m\u001b[0m\u001b[1;33m\u001b[0m\u001b[0m\n\u001b[0;32m     12\u001b[0m     \u001b[0minfile\u001b[0m\u001b[1;33m.\u001b[0m\u001b[0mclose\u001b[0m\u001b[1;33m(\u001b[0m\u001b[1;33m)\u001b[0m\u001b[1;33m\u001b[0m\u001b[1;33m\u001b[0m\u001b[0m\n\u001b[1;32m---> 13\u001b[1;33m     \u001b[0minfile1\u001b[0m\u001b[1;33m.\u001b[0m\u001b[0mclose\u001b[0m\u001b[1;33m(\u001b[0m\u001b[1;33m)\u001b[0m\u001b[1;33m\u001b[0m\u001b[1;33m\u001b[0m\u001b[0m\n\u001b[0m\u001b[0;32m     14\u001b[0m \u001b[0mabc\u001b[0m\u001b[1;33m(\u001b[0m\u001b[1;34m'sample2'\u001b[0m\u001b[1;33m)\u001b[0m\u001b[1;33m\u001b[0m\u001b[1;33m\u001b[0m\u001b[0m\n",
      "\u001b[1;31mUnboundLocalError\u001b[0m: local variable 'infile1' referenced before assignment"
     ]
    }
   ],
   "source": [
    "def abc(sample2):\n",
    "    infile=open(sample2,'r')\n",
    "    content=infile.read()\n",
    "    lst=content.split()\n",
    "    for i in lst:\n",
    "        infile1=open(modify,'w')\n",
    "        if len(i)==4:\n",
    "            infile1.write(i.replace(i,'xxxx'))\n",
    "        else:\n",
    "            infile1.write(i)\n",
    "            infile1.close()\n",
    "    infile.close()\n",
    "    infile1.close()\n",
    "abc('sample2')"
   ]
  },
  {
   "cell_type": "code",
   "execution_count": null,
   "metadata": {},
   "outputs": [],
   "source": []
  },
  {
   "cell_type": "code",
   "execution_count": null,
   "metadata": {},
   "outputs": [],
   "source": []
  }
 ],
 "metadata": {
  "kernelspec": {
   "display_name": "Python 3",
   "language": "python",
   "name": "python3"
  },
  "language_info": {
   "codemirror_mode": {
    "name": "ipython",
    "version": 3
   },
   "file_extension": ".py",
   "mimetype": "text/x-python",
   "name": "python",
   "nbconvert_exporter": "python",
   "pygments_lexer": "ipython3",
   "version": "3.7.3"
  }
 },
 "nbformat": 4,
 "nbformat_minor": 2
}
